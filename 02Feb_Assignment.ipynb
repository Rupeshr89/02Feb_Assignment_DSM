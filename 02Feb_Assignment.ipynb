{
 "cells": [
  {
   "cell_type": "markdown",
   "id": "e75f4eb5-3e0f-4773-9a82-8c062fa5bf9f",
   "metadata": {},
   "source": [
    "### 1. What are the characteristics of the tuples? Is tuple immutable?"
   ]
  },
  {
   "cell_type": "code",
   "execution_count": null,
   "id": "eb2f1d90-fc7d-45f3-99ae-048c458584a0",
   "metadata": {},
   "outputs": [],
   "source": [
    "tuples are indexed.\n",
    "tuples are ordered.\n",
    "tuples are immutable.\n",
    "tuples can contain duplicate items."
   ]
  },
  {
   "cell_type": "code",
   "execution_count": null,
   "id": "ad669d44-3937-4080-824f-cbc1ab7627b4",
   "metadata": {},
   "outputs": [],
   "source": [
    "Yes tuple is immutable."
   ]
  },
  {
   "cell_type": "markdown",
   "id": "9152f54c-0252-4107-9e97-ce148a31d2d5",
   "metadata": {},
   "source": [
    "### 2. What are the two tuple method in python?Give an example of each method.Give a reason why tuple have only two in-built methods as compared to lists."
   ]
  },
  {
   "cell_type": "code",
   "execution_count": null,
   "id": "b8da33ed-9a74-4a45-8c55-04dc6f20e186",
   "metadata": {},
   "outputs": [],
   "source": [
    "There are only two tuple methods in python which are count() and index()."
   ]
  },
  {
   "cell_type": "code",
   "execution_count": 2,
   "id": "22f51e6b-c8e7-4572-9088-d81e43c26cb0",
   "metadata": {},
   "outputs": [],
   "source": [
    "## Example of count()"
   ]
  },
  {
   "cell_type": "code",
   "execution_count": 3,
   "id": "92435de6-e2eb-4e23-b4db-d24f282ff0e2",
   "metadata": {},
   "outputs": [],
   "source": [
    "t1=(1,2,3,4,5,3+4j,\"pwskills\")"
   ]
  },
  {
   "cell_type": "code",
   "execution_count": 4,
   "id": "af7cad27-564d-402e-aa67-f1fa36769b87",
   "metadata": {},
   "outputs": [
    {
     "data": {
      "text/plain": [
       "(1, 2, 3, 4, 5, (3+4j), 'pwskills')"
      ]
     },
     "execution_count": 4,
     "metadata": {},
     "output_type": "execute_result"
    }
   ],
   "source": [
    "t1"
   ]
  },
  {
   "cell_type": "code",
   "execution_count": 6,
   "id": "65c70006-1dd7-45d5-b181-d4e2ce36a422",
   "metadata": {},
   "outputs": [
    {
     "data": {
      "text/plain": [
       "1"
      ]
     },
     "execution_count": 6,
     "metadata": {},
     "output_type": "execute_result"
    }
   ],
   "source": [
    "t1.count(4)"
   ]
  },
  {
   "cell_type": "code",
   "execution_count": null,
   "id": "90b48131-2f73-47cd-93cf-408ffc142beb",
   "metadata": {},
   "outputs": [],
   "source": [
    "That means there is one time 4 in t1"
   ]
  },
  {
   "cell_type": "code",
   "execution_count": 7,
   "id": "eeab2a10-536e-4116-b13d-f96012958fca",
   "metadata": {},
   "outputs": [],
   "source": [
    "# Example of index"
   ]
  },
  {
   "cell_type": "code",
   "execution_count": 8,
   "id": "ab57e60e-9602-44d3-9acd-391fc48ff019",
   "metadata": {},
   "outputs": [
    {
     "data": {
      "text/plain": [
       "(1, 2, 3, 4, 5, (3+4j), 'pwskills')"
      ]
     },
     "execution_count": 8,
     "metadata": {},
     "output_type": "execute_result"
    }
   ],
   "source": [
    "t1"
   ]
  },
  {
   "cell_type": "code",
   "execution_count": 9,
   "id": "da637893-83c3-4940-9220-8f6eb68f5816",
   "metadata": {},
   "outputs": [
    {
     "data": {
      "text/plain": [
       "4"
      ]
     },
     "execution_count": 9,
     "metadata": {},
     "output_type": "execute_result"
    }
   ],
   "source": [
    "t1.index(5)"
   ]
  },
  {
   "cell_type": "code",
   "execution_count": 10,
   "id": "3be23d69-d093-447c-9160-9ad806bda6ce",
   "metadata": {},
   "outputs": [],
   "source": [
    "## Why tuples have only two in-built methods as compared to lists"
   ]
  },
  {
   "cell_type": "code",
   "execution_count": null,
   "id": "715bc835-28ac-42b8-86d2-c610cdf158db",
   "metadata": {},
   "outputs": [],
   "source": [
    "tuples are immutable, that means you cannot change their contents after they are created.\n",
    "the length of tuple is also fixed."
   ]
  },
  {
   "cell_type": "markdown",
   "id": "1e6a01ce-3aa2-4701-b053-c358d5bae048",
   "metadata": {},
   "source": [
    "### 3. Which collection datatypes in python do not allow duplicate items?   Write a code using a set to remove duplicates form the given list.\n",
    "\n",
    "list=[1,1,1,2,1,3,1,4,2,1,2,2,2,3,2,4,3,1,3,2,3,3,3,4,4,1,4,2,4,3,4,4]"
   ]
  },
  {
   "cell_type": "code",
   "execution_count": null,
   "id": "c5c86ebd-7714-429b-9e57-07ed84be2825",
   "metadata": {},
   "outputs": [],
   "source": [
    "Set is a collection which do not allow duplicate items because set is unordered and unindexed."
   ]
  },
  {
   "cell_type": "code",
   "execution_count": 12,
   "id": "3d6ccdc1-7b67-4a1a-9ad8-52f19c45e312",
   "metadata": {},
   "outputs": [],
   "source": [
    "s1={1,1,1,2,1,3,1,4,2,1,2,2,2,3,2,4,3,1,3,2,3,3,3,4,4,1,4,2,4,3,4,4}"
   ]
  },
  {
   "cell_type": "code",
   "execution_count": 13,
   "id": "25ab4736-8f9e-4a4d-8d41-1902b298ab5c",
   "metadata": {},
   "outputs": [
    {
     "data": {
      "text/plain": [
       "{1, 2, 3, 4}"
      ]
     },
     "execution_count": 13,
     "metadata": {},
     "output_type": "execute_result"
    }
   ],
   "source": [
    "s1"
   ]
  },
  {
   "cell_type": "markdown",
   "id": "117c4432-7233-41c8-8a8c-a7b89a737adb",
   "metadata": {},
   "source": [
    "### 4.Explain th difference between the union() and update() methods for a set. Give a example of each method."
   ]
  },
  {
   "cell_type": "code",
   "execution_count": null,
   "id": "7f6920f2-278b-47eb-af6e-9d482422eb14",
   "metadata": {},
   "outputs": [],
   "source": [
    "In set union() method use for create a new set by multiple set."
   ]
  },
  {
   "cell_type": "code",
   "execution_count": 14,
   "id": "eb949c11-cdf9-4073-81a5-887a9bf7d896",
   "metadata": {},
   "outputs": [],
   "source": [
    "## Example fo union()"
   ]
  },
  {
   "cell_type": "code",
   "execution_count": 15,
   "id": "390d4e8c-3020-42d5-aaf4-2799b27fd8ae",
   "metadata": {},
   "outputs": [],
   "source": [
    "s1={1,2,3,4}"
   ]
  },
  {
   "cell_type": "code",
   "execution_count": 16,
   "id": "9aecdc00-64ef-4368-9fef-2ce7bdbb830c",
   "metadata": {},
   "outputs": [],
   "source": [
    "s2={5,6,7,8}"
   ]
  },
  {
   "cell_type": "code",
   "execution_count": 18,
   "id": "fcede76d-9b32-49a7-9bb4-dc28b28d6dd1",
   "metadata": {},
   "outputs": [
    {
     "data": {
      "text/plain": [
       "{1, 2, 3, 4, 5, 6, 7, 8}"
      ]
     },
     "execution_count": 18,
     "metadata": {},
     "output_type": "execute_result"
    }
   ],
   "source": [
    "s1.union(s2)"
   ]
  },
  {
   "cell_type": "code",
   "execution_count": null,
   "id": "ad815eaa-e552-42e1-91a1-6dc6cae4b5ab",
   "metadata": {},
   "outputs": [],
   "source": [
    "In set update() method use for  update a set by itselt or others."
   ]
  },
  {
   "cell_type": "code",
   "execution_count": 19,
   "id": "5dcc4544-e8c1-4429-b9c9-753ae05e567a",
   "metadata": {},
   "outputs": [
    {
     "data": {
      "text/plain": [
       "{1, 2, 3, 4}"
      ]
     },
     "execution_count": 19,
     "metadata": {},
     "output_type": "execute_result"
    }
   ],
   "source": [
    "s1"
   ]
  },
  {
   "cell_type": "code",
   "execution_count": 20,
   "id": "7d290bbf-95e5-4670-8466-71f751fa1578",
   "metadata": {},
   "outputs": [
    {
     "data": {
      "text/plain": [
       "{5, 6, 7, 8}"
      ]
     },
     "execution_count": 20,
     "metadata": {},
     "output_type": "execute_result"
    }
   ],
   "source": [
    "s2"
   ]
  },
  {
   "cell_type": "code",
   "execution_count": 21,
   "id": "26f17bac-1f55-4b38-a916-8ff5d206b7fb",
   "metadata": {},
   "outputs": [],
   "source": [
    "s1.update(s2)"
   ]
  },
  {
   "cell_type": "code",
   "execution_count": 22,
   "id": "b6a56b81-f194-4795-a07c-307d93e8f160",
   "metadata": {},
   "outputs": [
    {
     "data": {
      "text/plain": [
       "{1, 2, 3, 4, 5, 6, 7, 8}"
      ]
     },
     "execution_count": 22,
     "metadata": {},
     "output_type": "execute_result"
    }
   ],
   "source": [
    "s1"
   ]
  },
  {
   "cell_type": "code",
   "execution_count": 24,
   "id": "41492b64-eea5-4276-804a-72bd314ab255",
   "metadata": {},
   "outputs": [],
   "source": [
    "s1.update({9,10})"
   ]
  },
  {
   "cell_type": "code",
   "execution_count": 25,
   "id": "969844a8-fbe6-475c-8795-3e83444e7b24",
   "metadata": {},
   "outputs": [
    {
     "data": {
      "text/plain": [
       "{1, 2, 3, 4, 5, 6, 7, 8, 9, 10}"
      ]
     },
     "execution_count": 25,
     "metadata": {},
     "output_type": "execute_result"
    }
   ],
   "source": [
    "s1"
   ]
  },
  {
   "cell_type": "markdown",
   "id": "42127dd8-1c09-46a2-a417-4f0bbe6ed590",
   "metadata": {},
   "source": [
    "### 5.What is dictionary? Give an example. Also state whether a dictionary is ordered or unorderd."
   ]
  },
  {
   "cell_type": "code",
   "execution_count": null,
   "id": "f98b9d13-ecab-46a5-a4be-3e34e16c4f4a",
   "metadata": {},
   "outputs": [],
   "source": [
    "Dictionaries are used to store data values in key:value pairs.\n",
    "A dictionaries is a collection which is orderd, changable and do not \n",
    "allow duplicates."
   ]
  },
  {
   "cell_type": "code",
   "execution_count": null,
   "id": "0dca240a-65ea-4cc4-8600-e90919df1314",
   "metadata": {},
   "outputs": [],
   "source": [
    "Dictionary is ordered."
   ]
  },
  {
   "cell_type": "markdown",
   "id": "0b84805b-7ad9-4295-a798-e54df1d75e93",
   "metadata": {},
   "source": [
    "### 6.Can we create a nested dictionary? If so, please gieve an example by creating simple one-level nested dictionary."
   ]
  },
  {
   "cell_type": "code",
   "execution_count": null,
   "id": "5b672b07-4ecc-4e83-9638-9c00e9bd7468",
   "metadata": {},
   "outputs": [],
   "source": [
    "Yes we can creat a nested dictionary."
   ]
  },
  {
   "cell_type": "code",
   "execution_count": 28,
   "id": "0027fb55-23b6-4930-af65-3b48d8c5cb89",
   "metadata": {},
   "outputs": [],
   "source": [
    "## Example of nested dictionary"
   ]
  },
  {
   "cell_type": "code",
   "execution_count": 29,
   "id": "ccfa2ef5-46af-4898-9b78-aac3932d542a",
   "metadata": {},
   "outputs": [],
   "source": [
    "d1={\"key1\":{\"name\":\"Rupesh\",\"course\":\"DSM\"}}"
   ]
  },
  {
   "cell_type": "code",
   "execution_count": 30,
   "id": "3ec90a0c-fabf-4e6b-92d2-1259076a39b7",
   "metadata": {},
   "outputs": [
    {
     "data": {
      "text/plain": [
       "{'key1': {'name': 'Rupesh', 'course': 'DSM'}}"
      ]
     },
     "execution_count": 30,
     "metadata": {},
     "output_type": "execute_result"
    }
   ],
   "source": [
    "d1"
   ]
  },
  {
   "cell_type": "markdown",
   "id": "cf15737b-24a4-4f53-993b-66297c921e0d",
   "metadata": {},
   "source": [
    "### 7. Using setdefault() method, create key named topics in the giben dictionary and alos add the value of the key as this list.\n",
    "['Python','Machine learning','Deep learning']"
   ]
  },
  {
   "cell_type": "code",
   "execution_count": 31,
   "id": "65e51eb6-312a-4284-86ba-b4ed2758ad68",
   "metadata": {},
   "outputs": [],
   "source": [
    "dict1={'language':'Python','course':'Data Science Masters'}"
   ]
  },
  {
   "cell_type": "code",
   "execution_count": 32,
   "id": "4811beb6-e7bb-4865-9633-bdd9f00b2b73",
   "metadata": {},
   "outputs": [
    {
     "data": {
      "text/plain": [
       "{'language': 'Python', 'course': 'Data Science Masters'}"
      ]
     },
     "execution_count": 32,
     "metadata": {},
     "output_type": "execute_result"
    }
   ],
   "source": [
    "dict1"
   ]
  },
  {
   "cell_type": "code",
   "execution_count": 33,
   "id": "f0df8169-aa23-4fba-a258-272a86d338e5",
   "metadata": {},
   "outputs": [
    {
     "data": {
      "text/plain": [
       "['Python', 'Machine learning', 'Deep learning']"
      ]
     },
     "execution_count": 33,
     "metadata": {},
     "output_type": "execute_result"
    }
   ],
   "source": [
    "dict1.setdefault('topics',['Python','Machine learning','Deep learning'])"
   ]
  },
  {
   "cell_type": "code",
   "execution_count": 34,
   "id": "444e2fd5-863d-4740-8c43-b0971252a304",
   "metadata": {},
   "outputs": [
    {
     "data": {
      "text/plain": [
       "{'language': 'Python',\n",
       " 'course': 'Data Science Masters',\n",
       " 'topics': ['Python', 'Machine learning', 'Deep learning']}"
      ]
     },
     "execution_count": 34,
     "metadata": {},
     "output_type": "execute_result"
    }
   ],
   "source": [
    "dict1"
   ]
  },
  {
   "cell_type": "markdown",
   "id": "e419017e-3fa1-4cdc-b003-c755e8eaa6eb",
   "metadata": {},
   "source": [
    "### 8.What are the three view objects in dictionaries? Use the three in-built methods in python to display these three view objects for the given dictionary.\n",
    "dict2={'Sport':'Cricket','Teams':['India','Australia','England','South Africa','Sri Lanka','New Zealang']}"
   ]
  },
  {
   "cell_type": "code",
   "execution_count": null,
   "id": "b2fe527d-cdee-4e63-913b-c302f7781c83",
   "metadata": {},
   "outputs": [],
   "source": [
    "The three view objects in dictionaries are keys, values, and items."
   ]
  },
  {
   "cell_type": "code",
   "execution_count": 37,
   "id": "46f30273-359f-4a11-b24e-f62d8b759027",
   "metadata": {},
   "outputs": [],
   "source": [
    "## Example of three in-built methods in python to display three view objects for dictionary"
   ]
  },
  {
   "cell_type": "code",
   "execution_count": 38,
   "id": "54e2c723-f4a7-4e43-b4d6-ce32770b0a2d",
   "metadata": {},
   "outputs": [],
   "source": [
    "dict2={'Sport':'Cricket','Teams':['India','Australia','England','South Africa','Sri Lanka','New Zealang']}"
   ]
  },
  {
   "cell_type": "code",
   "execution_count": 39,
   "id": "f21db09b-0373-433a-8843-7f7ae8668fbd",
   "metadata": {},
   "outputs": [
    {
     "data": {
      "text/plain": [
       "{'Sport': 'Cricket',\n",
       " 'Teams': ['India',\n",
       "  'Australia',\n",
       "  'England',\n",
       "  'South Africa',\n",
       "  'Sri Lanka',\n",
       "  'New Zealang']}"
      ]
     },
     "execution_count": 39,
     "metadata": {},
     "output_type": "execute_result"
    }
   ],
   "source": [
    "dict2"
   ]
  },
  {
   "cell_type": "code",
   "execution_count": 40,
   "id": "2e7e01eb-6612-4a08-9922-5bdbf35349dc",
   "metadata": {},
   "outputs": [
    {
     "data": {
      "text/plain": [
       "dict_keys(['Sport', 'Teams'])"
      ]
     },
     "execution_count": 40,
     "metadata": {},
     "output_type": "execute_result"
    }
   ],
   "source": [
    "dict2.keys()"
   ]
  },
  {
   "cell_type": "code",
   "execution_count": 41,
   "id": "61cd2ed6-487b-41f6-b9c1-52823957e501",
   "metadata": {},
   "outputs": [
    {
     "data": {
      "text/plain": [
       "dict_values(['Cricket', ['India', 'Australia', 'England', 'South Africa', 'Sri Lanka', 'New Zealang']])"
      ]
     },
     "execution_count": 41,
     "metadata": {},
     "output_type": "execute_result"
    }
   ],
   "source": [
    "dict2.values()"
   ]
  },
  {
   "cell_type": "code",
   "execution_count": 45,
   "id": "6a4d8f8b-2e0d-4751-9989-c65fd66b13c9",
   "metadata": {},
   "outputs": [
    {
     "data": {
      "text/plain": [
       "dict_items([('Sport', 'Cricket'), ('Teams', ['India', 'Australia', 'England', 'South Africa', 'Sri Lanka', 'New Zealang'])])"
      ]
     },
     "execution_count": 45,
     "metadata": {},
     "output_type": "execute_result"
    }
   ],
   "source": [
    "dict2.items()"
   ]
  },
  {
   "cell_type": "code",
   "execution_count": null,
   "id": "560ab9c4-281d-4186-97f1-8e59877eae9a",
   "metadata": {},
   "outputs": [],
   "source": []
  }
 ],
 "metadata": {
  "kernelspec": {
   "display_name": "Python 3 (ipykernel)",
   "language": "python",
   "name": "python3"
  },
  "language_info": {
   "codemirror_mode": {
    "name": "ipython",
    "version": 3
   },
   "file_extension": ".py",
   "mimetype": "text/x-python",
   "name": "python",
   "nbconvert_exporter": "python",
   "pygments_lexer": "ipython3",
   "version": "3.10.8"
  }
 },
 "nbformat": 4,
 "nbformat_minor": 5
}
